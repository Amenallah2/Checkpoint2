{
 "cells": [
  {
   "cell_type": "code",
   "execution_count": 5,
   "id": "b91a7ee6",
   "metadata": {},
   "outputs": [
    {
     "name": "stdout",
     "output_type": "stream",
     "text": [
      "amen\n",
      "allah\n",
      "amen allah\n"
     ]
    }
   ],
   "source": [
    "#question1\n",
    "firstname=input()\n",
    "lastname=input()\n",
    "\n",
    "\n",
    "print(firstname+' '+lastname)"
   ]
  },
  {
   "cell_type": "code",
   "execution_count": 21,
   "id": "a65d677b",
   "metadata": {},
   "outputs": [
    {
     "name": "stdout",
     "output_type": "stream",
     "text": [
      "5\n",
      "615\n"
     ]
    }
   ],
   "source": [
    "#question2\n",
    "\n",
    "x=int(input())\n",
    "x1=str(x)\n",
    "a=x1\n",
    "b=x1+x1\n",
    "c=x1+x1+x1\n",
    "\n",
    "y=int(a)+int(b)+int(c)\n",
    "print(y)\n",
    "\n",
    "\n",
    "\n",
    "    "
   ]
  },
  {
   "cell_type": "code",
   "execution_count": 36,
   "id": "1dfbd74f",
   "metadata": {},
   "outputs": [
    {
     "name": "stdout",
     "output_type": "stream",
     "text": [
      "6\n",
      "pair\n"
     ]
    }
   ],
   "source": [
    "#question3\n",
    "x=int(input())\n",
    "\n",
    "if (x%2)==0:\n",
    "    print('pair')\n",
    "else:\n",
    "    print('impair')\n",
    "    "
   ]
  },
  {
   "cell_type": "code",
   "execution_count": 59,
   "id": "c1d6e45f",
   "metadata": {},
   "outputs": [
    {
     "name": "stdout",
     "output_type": "stream",
     "text": [
      "2002  2009  2016  2023  2037  2044  2051  2058  2072  2079  2086  2093  2107  2114  2121  2128  2142  2149  2156  2163  2177  2184  2191  2198  2212  2219  2226  2233  2247  2254  2261  2268  2282  2289  2296  2303  2317  2324  2331  2338  2352  2359  2366  2373  2387  2394  2401  2408  2422  2429  2436  2443  2457  2464  2471  2478  2492  2499  2506  2513  2527  2534  2541  2548  2562  2569  2576  2583  2597  2604  2611  2618  2632  2639  2646  2653  2667  2674  2681  2688  2702  2709  2716  2723  2737  2744  2751  2758  2772  2779  2786  2793  2807  2814  2821  2828  2842  2849  2856  2863  2877  2884  2891  2898  2912  2919  2926  2933  2947  2954  2961  2968  2982  2989  2996  "
     ]
    }
   ],
   "source": [
    "#question4\n",
    "\n",
    "\n",
    "for i in range(2000,3001):\n",
    "        if (i%7==0) and (i%5!=0):\n",
    "               print(i, sep=' ', end='  ', flush=True)\n",
    "                \n",
    "\n",
    "\n",
    "    \n",
    "    \n",
    "    "
   ]
  },
  {
   "cell_type": "code",
   "execution_count": 54,
   "id": "cd166df7",
   "metadata": {},
   "outputs": [
    {
     "name": "stdout",
     "output_type": "stream",
     "text": [
      "5\n",
      "1\n",
      "2\n",
      "3\n",
      "4\n",
      "5\n",
      "120\n"
     ]
    }
   ],
   "source": [
    "#question5\n",
    "x=int(input())\n",
    "a=1\n",
    "\n",
    "for i in range(1,(x+1)):\n",
    "        a=a*i\n",
    "        print(i)\n",
    "print(a)\n",
    "\n",
    "    "
   ]
  },
  {
   "cell_type": "code",
   "execution_count": 70,
   "id": "0988d271",
   "metadata": {},
   "outputs": [
    {
     "name": "stdout",
     "output_type": "stream",
     "text": [
      "amen\n",
      "ae"
     ]
    }
   ],
   "source": [
    "#question 6\n",
    "x=input()\n",
    "a=len(x)\n",
    "for i in range (0,a):\n",
    "    if (i%2)==0:\n",
    "        print(x[i], sep='', end='', flush=True)\n",
    "        "
   ]
  },
  {
   "cell_type": "code",
   "execution_count": 75,
   "id": "10eac372",
   "metadata": {},
   "outputs": [
    {
     "name": "stdout",
     "output_type": "stream",
     "text": [
      "300\n",
      "60.0\n"
     ]
    }
   ],
   "source": [
    "#question7\n",
    "x1=input()\n",
    "x=int(x1)\n",
    "if x>=500:\n",
    "    d1=x*0.5\n",
    "    print(d1)\n",
    "elif x>=200 and x<500:\n",
    "    d2=x*0.2\n",
    "    print(d2)\n",
    "else:\n",
    "    d3=x*0.1\n",
    "    print(d3)"
   ]
  },
  {
   "cell_type": "code",
   "execution_count": null,
   "id": "5ae496f3",
   "metadata": {},
   "outputs": [],
   "source": []
  }
 ],
 "metadata": {
  "kernelspec": {
   "display_name": "Python 3",
   "language": "python",
   "name": "python3"
  },
  "language_info": {
   "codemirror_mode": {
    "name": "ipython",
    "version": 3
   },
   "file_extension": ".py",
   "mimetype": "text/x-python",
   "name": "python",
   "nbconvert_exporter": "python",
   "pygments_lexer": "ipython3",
   "version": "3.8.8"
  }
 },
 "nbformat": 4,
 "nbformat_minor": 5
}
